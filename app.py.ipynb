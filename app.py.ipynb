{
 "cells": [
  {
   "cell_type": "code",
   "execution_count": 1,
   "metadata": {},
   "outputs": [
    {
     "name": "stderr",
     "output_type": "stream",
     "text": [
      "2021-11-09 21:21:26.684 \n",
      "  \u001b[33m\u001b[1mWarning:\u001b[0m to view this Streamlit app on a browser, run it with the following\n",
      "  command:\n",
      "\n",
      "    streamlit run C:\\Users\\A. Ganesh Raj\\anaconda3\\lib\\site-packages\\ipykernel_launcher.py [ARGUMENTS]\n"
     ]
    },
    {
     "data": {
      "text/plain": [
       "DeltaGenerator(_root_container=1, _provided_cursor=None, _parent=DeltaGenerator(_root_container=0, _provided_cursor=None, _parent=None, _block_type=None, _form_data=None), _block_type=None, _form_data=None)"
      ]
     },
     "execution_count": 1,
     "metadata": {},
     "output_type": "execute_result"
    }
   ],
   "source": [
    "import pickle\n",
    "import streamlit as st\n",
    "import requests\n",
    "import bs4 as bs\n",
    "import urllib.request\n",
    "\n",
    "import numpy as np\n",
    "\n",
    "\n",
    "\n",
    "def fetch_poster(movie_id):\n",
    "    url = \"https://api.themoviedb.org/3/movie/{}?api_key=8265bd1679663a7ea12ac168da84d2e8&language=en-US\".format(movie_id)\n",
    "    data = requests.get(url)\n",
    "    data = data.json()\n",
    "    poster_path = data['poster_path']\n",
    "    full_path = \"https://image.tmdb.org/t/p/w500/\" + poster_path\n",
    "\n",
    "    return full_path\n",
    "\n",
    "\n",
    "def recommend(movie):\n",
    "    index = movies[movies['title'] == movie].index[0]\n",
    "    distances = sorted(list(enumerate(similarity[index])), reverse=True, key=lambda x: x[1])\n",
    "    recommended_movie_names = []\n",
    "    recommended_movie_posters = []\n",
    "\n",
    "    for i in distances[1:16]:\n",
    "        # fetch the movie poster\n",
    "        movie_id = movies.iloc[i[0]].movie_id\n",
    "        recommended_movie_posters.append(fetch_poster(movie_id))\n",
    "        recommended_movie_names.append(movies.iloc[i[0]].title)\n",
    "\n",
    "\n",
    "    return recommended_movie_names,recommended_movie_posters\n",
    "\n",
    "\n",
    "\n",
    "\n",
    "st.title('Movie Recommendation System')\n",
    "\n",
    "movies = pickle.load(open('movie_list.pkl','rb'))\n",
    "similarity = pickle.load(open('similarity.pkl','rb'))\n",
    "\n",
    "\n",
    "movie_list = movies['title'].values\n",
    "selected_movie = st.sidebar.selectbox(\n",
    "    \"Type a movie from the dropdown\",\n",
    "    movie_list\n",
    ")\n",
    "\n",
    "if st.sidebar.button('Show Recommendation'):\n",
    "    recommended_movie_names,recommended_movie_posters = recommend(selected_movie)\n",
    "    col1, col2, col3 = st.columns(3)\n",
    "    with col1:\n",
    "        with st.container():\n",
    "            st.text(recommended_movie_names[0])\n",
    "            st.image(recommended_movie_posters[0])\n",
    "            st.text(recommended_movie_names[1])\n",
    "            st.image(recommended_movie_posters[1])\n",
    "            st.text(recommended_movie_names[2])\n",
    "            st.image(recommended_movie_posters[2])\n",
    "            st.text(recommended_movie_names[3])\n",
    "            st.image(recommended_movie_posters[3])\n",
    "            st.text(recommended_movie_names[4])\n",
    "            st.image(recommended_movie_posters[4])\n",
    "    with col2:\n",
    "        with st.container():\n",
    "            st.text(recommended_movie_names[5])\n",
    "            st.image(recommended_movie_posters[5])\n",
    "            st.text(recommended_movie_names[6])\n",
    "            st.image(recommended_movie_posters[6])\n",
    "            st.text(recommended_movie_names[7])\n",
    "            st.image(recommended_movie_posters[7])\n",
    "            st.text(recommended_movie_names[8])\n",
    "            st.image(recommended_movie_posters[8])\n",
    "            st.text(recommended_movie_names[9])\n",
    "            st.image(recommended_movie_posters[9])\n",
    "    with col3:\n",
    "        with st.container():\n",
    "            st.text(recommended_movie_names[10])\n",
    "            st.image(recommended_movie_posters[10])\n",
    "            st.text(recommended_movie_names[11])\n",
    "            st.image(recommended_movie_posters[11])\n",
    "            st.text(recommended_movie_names[12])\n",
    "            st.image(recommended_movie_posters[12])\n",
    "            st.text(recommended_movie_names[13])\n",
    "            st.image(recommended_movie_posters[13])\n",
    "            st.text(recommended_movie_names[14])\n",
    "            st.image(recommended_movie_posters[14])\n",
    "\n",
    "\n",
    "\n",
    "st.sidebar.text('BY GANESHRAJ')\n",
    "st.sidebar.text('From Artifical Intelligence and Data Science')\n",
    "\n",
    "\n"
   ]
  },
  {
   "cell_type": "code",
   "execution_count": null,
   "metadata": {},
   "outputs": [],
   "source": []
  }
 ],
 "metadata": {
  "kernelspec": {
   "display_name": "Python 3",
   "language": "python",
   "name": "python3"
  },
  "language_info": {
   "codemirror_mode": {
    "name": "ipython",
    "version": 3
   },
   "file_extension": ".py",
   "mimetype": "text/x-python",
   "name": "python",
   "nbconvert_exporter": "python",
   "pygments_lexer": "ipython3",
   "version": "3.8.5"
  }
 },
 "nbformat": 4,
 "nbformat_minor": 4
}
